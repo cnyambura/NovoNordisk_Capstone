{
 "cells": [
  {
   "cell_type": "code",
   "execution_count": 54,
   "metadata": {},
   "outputs": [],
   "source": [
    "import pandas as pd\n",
    "import matplotlib.pyplot as plt\n",
    "%matplotlib inline"
   ]
  },
  {
   "cell_type": "code",
   "execution_count": 55,
   "metadata": {},
   "outputs": [],
   "source": [
    "res_90 = pd.read_csv('10_90_clstm_results.csv', index_col=0, header=None)\n",
    "res_80 = pd.read_csv('20_80_clstm_results.csv', index_col=0, header=None)\n",
    "res_75 = pd.read_csv('25_75_clstm_results.csv', index_col=0, header=None)\n",
    "res_70 = pd.read_csv('30_70_clstm_results.csv', index_col=0, header=None)\n",
    "res_60 = pd.read_csv('40_60_clstm_results.csv', index_col=0, header=None)\n",
    "res_50 = pd.read_csv('50_50_clstm_results.csv', index_col=0, header=None)"
   ]
  },
  {
   "cell_type": "code",
   "execution_count": 56,
   "metadata": {},
   "outputs": [],
   "source": [
    "quantiles = [0.5, 0.6, 0.7, 0.75, 0.8, 0.9]\n",
    "means = [res_50.mean(axis=0).values[0], res_60.mean(axis=0).values[0], \n",
    "         res_70.mean(axis=0).values[0], res_75.mean(axis=0).values[0], \n",
    "         res_80.mean(axis=0).values[0], res_90.mean(axis=0).values[0]]\n",
    "stddev = [res_50.std(axis=0).values[0], res_60.std(axis=0).values[0], \n",
    "          res_70.std(axis=0).values[0], res_75.std(axis=0).values[0], \n",
    "          res_80.std(axis=0).values[0], res_90.std(axis=0).values[0]]"
   ]
  },
  {
   "cell_type": "code",
   "execution_count": 57,
   "metadata": {},
   "outputs": [],
   "source": [
    "results = pd.DataFrame([quantiles, means, stddev]).T\n",
    "results.columns = ['q', 'm', 's']"
   ]
  },
  {
   "cell_type": "code",
   "execution_count": 71,
   "metadata": {},
   "outputs": [
    {
     "data": {
      "image/png": "[encoded data removed]",
      "text/plain": [
       "<Figure size 720x576 with 1 Axes>"
      ]
     },
     "metadata": {},
     "output_type": "display_data"
    }
   ],
   "source": [
    "plt.figure(figsize=(10,8))\n",
    "plt.scatter(x=results['q'], y=results['m'], s=100)\n",
    "plt.errorbar(results['q'],results['m'],yerr=results['s'], linestyle=\"None\")\n",
    "plt.savefig('vary_quantile.png', dpi=300)"
   ]
  },
  {
   "cell_type": "code",
   "execution_count": 29,
   "metadata": {},
   "outputs": [
    {
     "data": {
      "text/html": [
       "<div>\n",
       "<style scoped>\n",
       "    .dataframe tbody tr th:only-of-type {\n",
       "        vertical-align: middle;\n",
       "    }\n",
       "\n",
       "    .dataframe tbody tr th {\n",
       "        vertical-align: top;\n",
       "    }\n",
       "\n",
       "    .dataframe thead th {\n",
       "        text-align: right;\n",
       "    }\n",
       "</style>\n",
       "<table border=\"1\" class=\"dataframe\">\n",
       "  <thead>\n",
       "    <tr style=\"text-align: right;\">\n",
       "      <th></th>\n",
       "      <th>q</th>\n",
       "      <th>m</th>\n",
       "      <th>s</th>\n",
       "    </tr>\n",
       "  </thead>\n",
       "  <tbody>\n",
       "    <tr>\n",
       "      <th>0</th>\n",
       "      <td>75.0</td>\n",
       "      <td>0.723216</td>\n",
       "      <td>0.008103</td>\n",
       "    </tr>\n",
       "    <tr>\n",
       "      <th>1</th>\n",
       "      <td>90.0</td>\n",
       "      <td>0.718994</td>\n",
       "      <td>0.018274</td>\n",
       "    </tr>\n",
       "  </tbody>\n",
       "</table>\n",
       "</div>"
      ],
      "text/plain": [
       "      q         m         s\n",
       "0  75.0  0.723216  0.008103\n",
       "1  90.0  0.718994  0.018274"
      ]
     },
     "execution_count": 29,
     "metadata": {},
     "output_type": "execute_result"
    }
   ],
   "source": [
    "results"
   ]
  },
  {
   "cell_type": "code",
   "execution_count": null,
   "metadata": {},
   "outputs": [],
   "source": []
  }
 ],
 "metadata": {
  "anaconda-cloud": {},
  "kernelspec": {
   "display_name": "Novo Capstone",
   "language": "python",
   "name": "novo"
  },
  "language_info": {
   "codemirror_mode": {
    "name": "ipython",
    "version": 3
   },
   "file_extension": ".py",
   "mimetype": "text/x-python",
   "name": "python",
   "nbconvert_exporter": "python",
   "pygments_lexer": "ipython3",
   "version": "3.6.4"
  }
 },
 "nbformat": 4,
 "nbformat_minor": 2
}
