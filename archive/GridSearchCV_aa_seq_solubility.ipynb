{
 "cells": [
  {
   "cell_type": "code",
   "execution_count": 1,
   "metadata": {},
   "outputs": [
    {
     "name": "stderr",
     "output_type": "stream",
     "text": [
      "Using TensorFlow backend.\n"
     ]
    }
   ],
   "source": [
    "import numpy as np\n",
    "import pandas as pd\n",
    "import matplotlib.pyplot as plt\n",
    "\n",
    "from keras.preprocessing.text import Tokenizer\n",
    "from sklearn.model_selection import train_test_split\n",
    "from keras.preprocessing import sequence\n",
    "\n",
    "from keras.models import Sequential\n",
    "from keras.layers import Dense\n",
    "from keras.layers import LSTM\n",
    "from keras.layers.convolutional import Conv1D\n",
    "from keras.layers.convolutional import MaxPooling1D\n",
    "from keras.layers import Dropout\n",
    "from keras.layers.embeddings import Embedding\n",
    "\n",
    "from sklearn.model_selection import GridSearchCV\n",
    "from keras.wrappers.scikit_learn import KerasClassifier\n",
    "\n",
    "import ndac\n",
    "%matplotlib inline"
   ]
  },
  {
   "cell_type": "code",
   "execution_count": 2,
   "metadata": {},
   "outputs": [
    {
     "name": "stdout",
     "output_type": "stream",
     "text": [
      "16082 samples input.\n",
      "7667 samples above high value, 3324 samples below low value, 5091 samples removed.\n"
     ]
    },
    {
     "data": {
      "image/png": "[encoded data removed]",
      "text/plain": [
       "<Figure size 432x288 with 1 Axes>"
      ]
     },
     "metadata": {},
     "output_type": "display_data"
    }
   ],
   "source": [
    "#read in the data and classify\n",
    "data = pd.read_csv('dataframes/DF_solubility.csv', index_col=0)\n",
    "data, hist = ndac.value_classify(data['solubility_class_1M'], data['aa_seq'], high_value=4.1, low_value=3.9)"
   ]
  },
  {
   "cell_type": "code",
   "execution_count": 3,
   "metadata": {},
   "outputs": [
    {
     "name": "stdout",
     "output_type": "stream",
     "text": [
      "data shape:  (10991, 4)\n"
     ]
    }
   ],
   "source": [
    "# setup 'docs' for use with Tokenizer\n",
    "def aa_seq_doc(aa_sequence):\n",
    "    \"\"\"This function takes in an amino acid sequence (aa sequence) and adds spaces between each amino acid.\"\"\"\n",
    "    \n",
    "    return ' '.join([aa_sequence[i:i+1] \n",
    "                     for i in range(0, len(aa_sequence))])\n",
    "data['aa_seq_doc'] = data['aa_seq'].apply(aa_seq_doc)\n",
    "data = data[pd.notnull(data['aa_seq_doc'])]\n",
    "\n",
    "# check shape\n",
    "print('data shape: ', data.shape)"
   ]
  },
  {
   "cell_type": "code",
   "execution_count": 4,
   "metadata": {},
   "outputs": [],
   "source": [
    "# define sequence documents\n",
    "docs = list(data['aa_seq_doc'])\n",
    "# create the tokenizer\n",
    "t = Tokenizer()\n",
    "# fit the tokenizer on the documents\n",
    "t.fit_on_texts(docs)\n",
    "\n",
    "# integer encode documents\n",
    "X = t.texts_to_sequences(docs)\n",
    "y = data['class'].values\n",
    "\n",
    "# fix random seed for reproducibility\n",
    "np.random.seed(27315)\n",
    "\n",
    "# load the dataset but only keep the top n words, zero the rest\n",
    "top_words = len(t.word_index) + 1\n",
    "\n",
    "# truncate and pad input sequences\n",
    "seq_lengths = [len(seq) for seq in X]\n",
    "max_seq_length = max(seq_lengths)\n",
    "X = sequence.pad_sequences(X, maxlen=max_seq_length)"
   ]
  },
  {
   "cell_type": "code",
   "execution_count": null,
   "metadata": {},
   "outputs": [
    {
     "name": "stdout",
     "output_type": "stream",
     "text": [
      "Fitting 3 folds for each of 48 candidates, totalling 144 fits\n",
      "[CV] embedding_length=8, filter_length=6, lstm_nodes=100, num_filters=100, pool_size=2 \n",
      "[CV]  embedding_length=8, filter_length=6, lstm_nodes=100, num_filters=100, pool_size=2, score=0.7931222707423581, total= 7.7min\n",
      "[CV] embedding_length=8, filter_length=6, lstm_nodes=100, num_filters=100, pool_size=2 \n"
     ]
    },
    {
     "name": "stderr",
     "output_type": "stream",
     "text": [
      "[Parallel(n_jobs=1)]: Done   1 out of   1 | elapsed:  7.7min remaining:    0.0s\n"
     ]
    },
    {
     "name": "stdout",
     "output_type": "stream",
     "text": [
      "[CV]  embedding_length=8, filter_length=6, lstm_nodes=100, num_filters=100, pool_size=2, score=0.777292576419214, total= 7.5min\n",
      "[CV] embedding_length=8, filter_length=6, lstm_nodes=100, num_filters=100, pool_size=2 \n"
     ]
    },
    {
     "name": "stderr",
     "output_type": "stream",
     "text": [
      "[Parallel(n_jobs=1)]: Done   2 out of   2 | elapsed: 15.3min remaining:    0.0s\n"
     ]
    },
    {
     "name": "stdout",
     "output_type": "stream",
     "text": [
      "[CV]  embedding_length=8, filter_length=6, lstm_nodes=100, num_filters=100, pool_size=2, score=0.819819819852364, total= 7.5min\n",
      "[CV] embedding_length=8, filter_length=6, lstm_nodes=100, num_filters=100, pool_size=4 \n"
     ]
    },
    {
     "name": "stderr",
     "output_type": "stream",
     "text": [
      "[Parallel(n_jobs=1)]: Done   3 out of   3 | elapsed: 22.8min remaining:    0.0s\n"
     ]
    },
    {
     "name": "stdout",
     "output_type": "stream",
     "text": [
      "[CV]  embedding_length=8, filter_length=6, lstm_nodes=100, num_filters=100, pool_size=4, score=0.8010371179039302, total= 4.6min\n",
      "[CV] embedding_length=8, filter_length=6, lstm_nodes=100, num_filters=100, pool_size=4 \n"
     ]
    },
    {
     "name": "stderr",
     "output_type": "stream",
     "text": [
      "[Parallel(n_jobs=1)]: Done   4 out of   4 | elapsed: 27.5min remaining:    0.0s\n"
     ]
    },
    {
     "name": "stdout",
     "output_type": "stream",
     "text": [
      "[CV]  embedding_length=8, filter_length=6, lstm_nodes=100, num_filters=100, pool_size=4, score=0.7903930131004366, total= 4.6min\n",
      "[CV] embedding_length=8, filter_length=6, lstm_nodes=100, num_filters=100, pool_size=4 \n"
     ]
    },
    {
     "name": "stderr",
     "output_type": "stream",
     "text": [
      "[Parallel(n_jobs=1)]: Done   5 out of   5 | elapsed: 32.1min remaining:    0.0s\n"
     ]
    },
    {
     "name": "stdout",
     "output_type": "stream",
     "text": [
      "[CV]  embedding_length=8, filter_length=6, lstm_nodes=100, num_filters=100, pool_size=4, score=0.8274638274800995, total= 4.5min\n",
      "[CV] embedding_length=8, filter_length=6, lstm_nodes=100, num_filters=200, pool_size=2 \n"
     ]
    },
    {
     "name": "stderr",
     "output_type": "stream",
     "text": [
      "[Parallel(n_jobs=1)]: Done   6 out of   6 | elapsed: 36.7min remaining:    0.0s\n"
     ]
    },
    {
     "name": "stdout",
     "output_type": "stream",
     "text": [
      "[CV]  embedding_length=8, filter_length=6, lstm_nodes=100, num_filters=200, pool_size=2, score=0.8114082969432315, total= 9.2min\n",
      "[CV] embedding_length=8, filter_length=6, lstm_nodes=100, num_filters=200, pool_size=2 \n"
     ]
    },
    {
     "name": "stderr",
     "output_type": "stream",
     "text": [
      "[Parallel(n_jobs=1)]: Done   7 out of   7 | elapsed: 45.9min remaining:    0.0s\n"
     ]
    },
    {
     "name": "stdout",
     "output_type": "stream",
     "text": [
      "[CV]  embedding_length=8, filter_length=6, lstm_nodes=100, num_filters=200, pool_size=2, score=0.7832969432314411, total= 9.1min\n",
      "[CV] embedding_length=8, filter_length=6, lstm_nodes=100, num_filters=200, pool_size=2 \n"
     ]
    },
    {
     "name": "stderr",
     "output_type": "stream",
     "text": [
      "[Parallel(n_jobs=1)]: Done   8 out of   8 | elapsed: 55.2min remaining:    0.0s\n"
     ]
    },
    {
     "name": "stdout",
     "output_type": "stream",
     "text": [
      "[CV]  embedding_length=8, filter_length=6, lstm_nodes=100, num_filters=200, pool_size=2, score=0.8140868141193582, total= 9.3min\n",
      "[CV] embedding_length=8, filter_length=6, lstm_nodes=100, num_filters=200, pool_size=4 \n"
     ]
    },
    {
     "name": "stderr",
     "output_type": "stream",
     "text": [
      "[Parallel(n_jobs=1)]: Done   9 out of   9 | elapsed: 64.6min remaining:    0.0s\n"
     ]
    },
    {
     "name": "stdout",
     "output_type": "stream",
     "text": [
      "[CV]  embedding_length=8, filter_length=6, lstm_nodes=100, num_filters=200, pool_size=4, score=0.7688318777292577, total= 5.7min\n",
      "[CV] embedding_length=8, filter_length=6, lstm_nodes=100, num_filters=200, pool_size=4 \n",
      "[CV]  embedding_length=8, filter_length=6, lstm_nodes=100, num_filters=200, pool_size=4, score=0.7838427947598253, total= 5.6min\n",
      "[CV] embedding_length=8, filter_length=6, lstm_nodes=100, num_filters=200, pool_size=4 \n",
      "[CV]  embedding_length=8, filter_length=6, lstm_nodes=100, num_filters=200, pool_size=4, score=0.8241878242366404, total= 5.7min\n",
      "[CV] embedding_length=8, filter_length=6, lstm_nodes=200, num_filters=100, pool_size=2 \n",
      "[CV]  embedding_length=8, filter_length=6, lstm_nodes=200, num_filters=100, pool_size=2, score=0.7933951965065502, total=15.0min\n",
      "[CV] embedding_length=8, filter_length=6, lstm_nodes=200, num_filters=100, pool_size=2 \n",
      "[CV]  embedding_length=8, filter_length=6, lstm_nodes=200, num_filters=100, pool_size=2, score=0.789028384279476, total=15.1min\n",
      "[CV] embedding_length=8, filter_length=6, lstm_nodes=200, num_filters=100, pool_size=2 \n",
      "[CV]  embedding_length=8, filter_length=6, lstm_nodes=200, num_filters=100, pool_size=2, score=0.8140868141193582, total=15.2min\n",
      "[CV] embedding_length=8, filter_length=6, lstm_nodes=200, num_filters=100, pool_size=4 \n",
      "[CV]  embedding_length=8, filter_length=6, lstm_nodes=200, num_filters=100, pool_size=4, score=0.7898471615720524, total= 8.2min\n",
      "[CV] embedding_length=8, filter_length=6, lstm_nodes=200, num_filters=100, pool_size=4 \n",
      "[CV]  embedding_length=8, filter_length=6, lstm_nodes=200, num_filters=100, pool_size=4, score=0.7942139737991266, total= 8.4min\n",
      "[CV] embedding_length=8, filter_length=6, lstm_nodes=200, num_filters=100, pool_size=4 \n",
      "[CV]  embedding_length=8, filter_length=6, lstm_nodes=200, num_filters=100, pool_size=4, score=0.8135408135896298, total= 8.2min\n",
      "[CV] embedding_length=8, filter_length=6, lstm_nodes=200, num_filters=200, pool_size=2 \n",
      "[CV]  embedding_length=8, filter_length=6, lstm_nodes=200, num_filters=200, pool_size=2, score=0.7865720524017468, total=18.5min\n",
      "[CV] embedding_length=8, filter_length=6, lstm_nodes=200, num_filters=200, pool_size=2 \n",
      "[CV]  embedding_length=8, filter_length=6, lstm_nodes=200, num_filters=200, pool_size=2, score=0.7849344978165939, total=18.5min\n",
      "[CV] embedding_length=8, filter_length=6, lstm_nodes=200, num_filters=200, pool_size=2 \n",
      "[CV]  embedding_length=8, filter_length=6, lstm_nodes=200, num_filters=200, pool_size=2, score=0.8129948130273572, total=18.6min\n",
      "[CV] embedding_length=8, filter_length=6, lstm_nodes=200, num_filters=200, pool_size=4 \n",
      "[CV]  embedding_length=8, filter_length=6, lstm_nodes=200, num_filters=200, pool_size=4, score=0.7901200873362445, total=10.2min\n",
      "[CV] embedding_length=8, filter_length=6, lstm_nodes=200, num_filters=200, pool_size=4 \n",
      "[CV]  embedding_length=8, filter_length=6, lstm_nodes=200, num_filters=200, pool_size=4, score=0.7980349344978166, total=10.2min\n",
      "[CV] embedding_length=8, filter_length=6, lstm_nodes=200, num_filters=200, pool_size=4 \n",
      "[CV]  embedding_length=8, filter_length=6, lstm_nodes=200, num_filters=200, pool_size=4, score=0.8228228228716391, total=10.2min\n",
      "[CV] embedding_length=8, filter_length=8, lstm_nodes=100, num_filters=100, pool_size=2 \n",
      "[CV]  embedding_length=8, filter_length=8, lstm_nodes=100, num_filters=100, pool_size=2, score=0.7947598253275109, total= 7.5min\n",
      "[CV] embedding_length=8, filter_length=8, lstm_nodes=100, num_filters=100, pool_size=2 \n",
      "[CV]  embedding_length=8, filter_length=8, lstm_nodes=100, num_filters=100, pool_size=2, score=0.785207423580786, total= 7.5min\n",
      "[CV] embedding_length=8, filter_length=8, lstm_nodes=100, num_filters=100, pool_size=2 \n",
      "[CV]  embedding_length=8, filter_length=8, lstm_nodes=100, num_filters=100, pool_size=2, score=0.8129948130436292, total= 7.5min\n",
      "[CV] embedding_length=8, filter_length=8, lstm_nodes=100, num_filters=100, pool_size=4 \n",
      "[CV]  embedding_length=8, filter_length=8, lstm_nodes=100, num_filters=100, pool_size=4, score=0.7770196506550219, total= 4.5min\n",
      "[CV] embedding_length=8, filter_length=8, lstm_nodes=100, num_filters=100, pool_size=4 \n",
      "[CV]  embedding_length=8, filter_length=8, lstm_nodes=100, num_filters=100, pool_size=4, score=0.7931222707423581, total= 4.5min\n",
      "[CV] embedding_length=8, filter_length=8, lstm_nodes=100, num_filters=100, pool_size=4 \n",
      "[CV]  embedding_length=8, filter_length=8, lstm_nodes=100, num_filters=100, pool_size=4, score=0.8203658204146366, total= 4.5min\n",
      "[CV] embedding_length=8, filter_length=8, lstm_nodes=100, num_filters=200, pool_size=2 \n",
      "[CV]  embedding_length=8, filter_length=8, lstm_nodes=100, num_filters=200, pool_size=2, score=0.7966703056768559, total= 9.2min\n",
      "[CV] embedding_length=8, filter_length=8, lstm_nodes=100, num_filters=200, pool_size=2 \n",
      "[CV]  embedding_length=8, filter_length=8, lstm_nodes=100, num_filters=200, pool_size=2, score=0.7958515283842795, total= 9.3min\n",
      "[CV] embedding_length=8, filter_length=8, lstm_nodes=100, num_filters=200, pool_size=2 \n",
      "[CV]  embedding_length=8, filter_length=8, lstm_nodes=100, num_filters=200, pool_size=2, score=0.8004368004693446, total= 9.3min\n",
      "[CV] embedding_length=8, filter_length=8, lstm_nodes=100, num_filters=200, pool_size=4 \n",
      "[CV]  embedding_length=8, filter_length=8, lstm_nodes=100, num_filters=200, pool_size=4, score=0.7650109170305677, total= 5.8min\n",
      "[CV] embedding_length=8, filter_length=8, lstm_nodes=100, num_filters=200, pool_size=4 \n",
      "[CV]  embedding_length=8, filter_length=8, lstm_nodes=100, num_filters=200, pool_size=4, score=0.7923034934497817, total= 5.8min\n",
      "[CV] embedding_length=8, filter_length=8, lstm_nodes=100, num_filters=200, pool_size=4 \n",
      "[CV]  embedding_length=8, filter_length=8, lstm_nodes=100, num_filters=200, pool_size=4, score=0.808899808932353, total= 5.8min\n",
      "[CV] embedding_length=8, filter_length=8, lstm_nodes=200, num_filters=100, pool_size=2 \n",
      "[CV]  embedding_length=8, filter_length=8, lstm_nodes=200, num_filters=100, pool_size=2, score=0.795032751091703, total=14.7min\n",
      "[CV] embedding_length=8, filter_length=8, lstm_nodes=200, num_filters=100, pool_size=2 \n",
      "[CV]  embedding_length=8, filter_length=8, lstm_nodes=200, num_filters=100, pool_size=2, score=0.7901200873362445, total=14.8min\n",
      "[CV] embedding_length=8, filter_length=8, lstm_nodes=200, num_filters=100, pool_size=2 \n",
      "[CV]  embedding_length=8, filter_length=8, lstm_nodes=200, num_filters=100, pool_size=2, score=0.816816816849361, total=14.7min\n",
      "[CV] embedding_length=8, filter_length=8, lstm_nodes=200, num_filters=100, pool_size=4 \n",
      "[CV]  embedding_length=8, filter_length=8, lstm_nodes=200, num_filters=100, pool_size=4, score=0.7595524017467249, total= 8.2min\n",
      "[CV] embedding_length=8, filter_length=8, lstm_nodes=200, num_filters=100, pool_size=4 \n",
      "[CV]  embedding_length=8, filter_length=8, lstm_nodes=200, num_filters=100, pool_size=4, score=0.785207423580786, total= 8.2min\n",
      "[CV] embedding_length=8, filter_length=8, lstm_nodes=200, num_filters=100, pool_size=4 \n",
      "[CV]  embedding_length=8, filter_length=8, lstm_nodes=200, num_filters=100, pool_size=4, score=0.8083538083863525, total= 8.2min\n",
      "[CV] embedding_length=8, filter_length=8, lstm_nodes=200, num_filters=200, pool_size=2 \n",
      "[CV]  embedding_length=8, filter_length=8, lstm_nodes=200, num_filters=200, pool_size=2, score=0.7920305676855895, total=18.5min\n",
      "[CV] embedding_length=8, filter_length=8, lstm_nodes=200, num_filters=200, pool_size=2 \n",
      "[CV]  embedding_length=8, filter_length=8, lstm_nodes=200, num_filters=200, pool_size=2, score=0.7868449781659389, total=18.7min\n",
      "[CV] embedding_length=8, filter_length=8, lstm_nodes=200, num_filters=200, pool_size=2 \n",
      "[CV]  embedding_length=8, filter_length=8, lstm_nodes=200, num_filters=200, pool_size=2, score=0.8064428064590785, total=18.9min\n",
      "[CV] embedding_length=8, filter_length=8, lstm_nodes=200, num_filters=200, pool_size=4 \n",
      "[CV]  embedding_length=8, filter_length=8, lstm_nodes=200, num_filters=200, pool_size=4, score=0.7966703056768559, total=10.6min\n",
      "[CV] embedding_length=8, filter_length=8, lstm_nodes=200, num_filters=200, pool_size=4 \n",
      "[CV]  embedding_length=8, filter_length=8, lstm_nodes=200, num_filters=200, pool_size=4, score=0.7925764192139738, total=10.6min\n",
      "[CV] embedding_length=8, filter_length=8, lstm_nodes=200, num_filters=200, pool_size=4 \n"
     ]
    },
    {
     "name": "stdout",
     "output_type": "stream",
     "text": [
      "[CV]  embedding_length=8, filter_length=8, lstm_nodes=200, num_filters=200, pool_size=4, score=0.8168168168656331, total=10.7min\n",
      "[CV] embedding_length=8, filter_length=10, lstm_nodes=100, num_filters=100, pool_size=2 \n",
      "[CV]  embedding_length=8, filter_length=10, lstm_nodes=100, num_filters=100, pool_size=2, score=0.7707423580786026, total= 7.9min\n",
      "[CV] embedding_length=8, filter_length=10, lstm_nodes=100, num_filters=100, pool_size=2 \n",
      "[CV]  embedding_length=8, filter_length=10, lstm_nodes=100, num_filters=100, pool_size=2, score=0.7895742358078602, total= 7.9min\n",
      "[CV] embedding_length=8, filter_length=10, lstm_nodes=100, num_filters=100, pool_size=2 \n",
      "[CV]  embedding_length=8, filter_length=10, lstm_nodes=100, num_filters=100, pool_size=2, score=0.8214578214903656, total= 7.8min\n",
      "[CV] embedding_length=8, filter_length=10, lstm_nodes=100, num_filters=100, pool_size=4 \n",
      "[CV]  embedding_length=8, filter_length=10, lstm_nodes=100, num_filters=100, pool_size=4, score=0.7966703056768559, total= 4.8min\n",
      "[CV] embedding_length=8, filter_length=10, lstm_nodes=100, num_filters=100, pool_size=4 \n",
      "[CV]  embedding_length=8, filter_length=10, lstm_nodes=100, num_filters=100, pool_size=4, score=0.7887554585152838, total= 4.8min\n",
      "[CV] embedding_length=8, filter_length=10, lstm_nodes=100, num_filters=100, pool_size=4 \n",
      "[CV]  embedding_length=8, filter_length=10, lstm_nodes=100, num_filters=100, pool_size=4, score=0.8203658203983646, total= 4.8min\n",
      "[CV] embedding_length=8, filter_length=10, lstm_nodes=100, num_filters=200, pool_size=2 \n",
      "[CV]  embedding_length=8, filter_length=10, lstm_nodes=100, num_filters=200, pool_size=2, score=0.7546397379912664, total= 9.7min\n",
      "[CV] embedding_length=8, filter_length=10, lstm_nodes=100, num_filters=200, pool_size=2 \n",
      "[CV]  embedding_length=8, filter_length=10, lstm_nodes=100, num_filters=200, pool_size=2, score=0.7797489082969432, total= 9.7min\n",
      "[CV] embedding_length=8, filter_length=10, lstm_nodes=100, num_filters=200, pool_size=2 \n",
      "[CV]  embedding_length=8, filter_length=10, lstm_nodes=100, num_filters=200, pool_size=2, score=0.8192738193226355, total=10.0min\n",
      "[CV] embedding_length=8, filter_length=10, lstm_nodes=100, num_filters=200, pool_size=4 \n",
      "[CV]  embedding_length=8, filter_length=10, lstm_nodes=100, num_filters=200, pool_size=4, score=0.7650109170305677, total= 6.3min\n",
      "[CV] embedding_length=8, filter_length=10, lstm_nodes=100, num_filters=200, pool_size=4 \n",
      "[CV]  embedding_length=8, filter_length=10, lstm_nodes=100, num_filters=200, pool_size=4, score=0.7901200873362445, total= 6.3min\n",
      "[CV] embedding_length=8, filter_length=10, lstm_nodes=100, num_filters=200, pool_size=4 \n",
      "[CV]  embedding_length=8, filter_length=10, lstm_nodes=100, num_filters=200, pool_size=4, score=0.7960687960850682, total= 6.2min\n",
      "[CV] embedding_length=8, filter_length=10, lstm_nodes=200, num_filters=100, pool_size=2 \n",
      "[CV]  embedding_length=8, filter_length=10, lstm_nodes=200, num_filters=100, pool_size=2, score=0.7966703056768559, total=15.2min\n",
      "[CV] embedding_length=8, filter_length=10, lstm_nodes=200, num_filters=100, pool_size=2 \n",
      "[CV]  embedding_length=8, filter_length=10, lstm_nodes=200, num_filters=100, pool_size=2, score=0.7917576419213974, total=15.3min\n",
      "[CV] embedding_length=8, filter_length=10, lstm_nodes=200, num_filters=100, pool_size=2 \n",
      "[CV]  embedding_length=8, filter_length=10, lstm_nodes=200, num_filters=100, pool_size=2, score=0.8244608244933687, total=15.2min\n",
      "[CV] embedding_length=8, filter_length=10, lstm_nodes=200, num_filters=100, pool_size=4 \n",
      "[CV]  embedding_length=8, filter_length=10, lstm_nodes=200, num_filters=100, pool_size=4, score=0.7614628820960698, total= 8.8min\n",
      "[CV] embedding_length=8, filter_length=10, lstm_nodes=200, num_filters=100, pool_size=4 \n",
      "[CV]  embedding_length=8, filter_length=10, lstm_nodes=200, num_filters=100, pool_size=4, score=0.7868449781659389, total= 9.0min\n",
      "[CV] embedding_length=8, filter_length=10, lstm_nodes=200, num_filters=100, pool_size=4 \n",
      "[CV]  embedding_length=8, filter_length=10, lstm_nodes=200, num_filters=100, pool_size=4, score=0.8116298116949, total= 8.9min\n",
      "[CV] embedding_length=8, filter_length=10, lstm_nodes=200, num_filters=200, pool_size=2 \n",
      "[CV]  embedding_length=8, filter_length=10, lstm_nodes=200, num_filters=200, pool_size=2, score=0.7811135371179039, total=19.3min\n",
      "[CV] embedding_length=8, filter_length=10, lstm_nodes=200, num_filters=200, pool_size=2 \n",
      "[CV]  embedding_length=8, filter_length=10, lstm_nodes=200, num_filters=200, pool_size=2, score=0.7931222707423581, total=19.0min\n",
      "[CV] embedding_length=8, filter_length=10, lstm_nodes=200, num_filters=200, pool_size=2 \n",
      "[CV]  embedding_length=8, filter_length=10, lstm_nodes=200, num_filters=200, pool_size=2, score=0.8135408135733577, total=19.0min\n",
      "[CV] embedding_length=8, filter_length=10, lstm_nodes=200, num_filters=200, pool_size=4 \n",
      "[CV]  embedding_length=8, filter_length=10, lstm_nodes=200, num_filters=200, pool_size=4, score=0.7682860262008734, total=10.8min\n",
      "[CV] embedding_length=8, filter_length=10, lstm_nodes=200, num_filters=200, pool_size=4 \n",
      "[CV]  embedding_length=8, filter_length=10, lstm_nodes=200, num_filters=200, pool_size=4, score=0.7944868995633187, total=10.8min\n",
      "[CV] embedding_length=8, filter_length=10, lstm_nodes=200, num_filters=200, pool_size=4 \n",
      "[CV]  embedding_length=8, filter_length=10, lstm_nodes=200, num_filters=200, pool_size=4, score=0.7993447993773435, total=10.7min\n",
      "[CV] embedding_length=16, filter_length=6, lstm_nodes=100, num_filters=100, pool_size=2 \n",
      "[CV]  embedding_length=16, filter_length=6, lstm_nodes=100, num_filters=100, pool_size=2, score=0.7996724890829694, total= 8.1min\n",
      "[CV] embedding_length=16, filter_length=6, lstm_nodes=100, num_filters=100, pool_size=2 \n"
     ]
    }
   ],
   "source": [
    "# tune hyperparameters for simple model\n",
    "\n",
    "# model based on \"A C-LSTM Neural Network for Text Classification\"\n",
    "\n",
    "def create_model(embedding_length=16, num_filters=128, pool_size=2,\n",
    "                 lstm_nodes=100, drop=0.5, recurrent_drop=0.5, filter_length=3):\n",
    "    # create the model\n",
    "    model = Sequential()\n",
    "    model.add(Embedding(top_words, embedding_length, \n",
    "                        input_length=max_seq_length))\n",
    "    model.add(Conv1D(filters=num_filters, kernel_size=filter_length, \n",
    "                     padding='same', activation='selu'))\n",
    "    model.add(MaxPooling1D(pool_size=pool_size))\n",
    "    model.add(LSTM(lstm_nodes, dropout=drop, \n",
    "              recurrent_dropout=recurrent_drop))\n",
    "    model.add(Dense(1, activation='sigmoid'))\n",
    "    model.compile(loss='binary_crossentropy', optimizer='adam', \n",
    "                  metrics=['accuracy'])\n",
    "\n",
    "    return model\n",
    "\n",
    "\n",
    "model = KerasClassifier(build_fn=create_model, batch_size=64,\n",
    "                        epochs=30, verbose=0)\n",
    "# define the grid search parameters\n",
    "# model hyperparameters\n",
    "embedding_length = [8, 16]\n",
    "num_filters = [100, 200]\n",
    "filter_length = [6, 8, 10]\n",
    "pool_size = [2, 4]\n",
    "lstm_nodes = [100, 200]\n",
    "\n",
    "param_grid = dict(num_filters=num_filters, pool_size=pool_size,\n",
    "                  lstm_nodes=lstm_nodes, filter_length=filter_length, embedding_length=embedding_length)\n",
    "\n",
    "grid = GridSearchCV(estimator=model, param_grid=param_grid,\n",
    "                    cv=3, verbose=10)\n",
    "\n",
    "\n",
    "grid_result = grid.fit(X, y)\n",
    "# summarize results\n",
    "print(\"Best: %f using %s\" % (grid_result.best_score_, grid_result.best_params_))\n",
    "\n",
    "grid_df = pd.DataFrame(grid_result.cv_results_['params'])\n",
    "grid_df['mean'] = grid_result.cv_results_['mean_test_score']\n",
    "grid_df['stddev'] = grid_result.cv_results_['std_test_score']\n",
    "\n",
    "# print results to csv file\n",
    "grid_df.to_csv('2018-06-21_aa_gird_search_solubility_results.csv')"
   ]
  },
  {
   "cell_type": "code",
   "execution_count": null,
   "metadata": {},
   "outputs": [],
   "source": []
  }
 ],
 "metadata": {
  "anaconda-cloud": {},
  "kernelspec": {
   "display_name": "Python 3",
   "language": "python",
   "name": "python3"
  },
  "language_info": {
   "codemirror_mode": {
    "name": "ipython",
    "version": 3
   },
   "file_extension": ".py",
   "mimetype": "text/x-python",
   "name": "python",
   "nbconvert_exporter": "python",
   "pygments_lexer": "ipython3",
   "version": "3.6.3"
  }
 },
 "nbformat": 4,
 "nbformat_minor": 2
}
