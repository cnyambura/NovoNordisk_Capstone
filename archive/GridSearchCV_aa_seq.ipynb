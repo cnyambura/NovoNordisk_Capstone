{
 "cells": [
  {
   "cell_type": "code",
   "execution_count": 1,
   "metadata": {},
   "outputs": [
    {
     "name": "stderr",
     "output_type": "stream",
     "text": [
      "Using TensorFlow backend.\n"
     ]
    }
   ],
   "source": [
    "import numpy as np\n",
    "import pandas as pd\n",
    "import matplotlib.pyplot as plt\n",
    "\n",
    "from keras.preprocessing.text import Tokenizer\n",
    "from sklearn.model_selection import train_test_split\n",
    "from keras.preprocessing import sequence\n",
    "\n",
    "from keras.models import Sequential\n",
    "from keras.layers import Dense\n",
    "from keras.layers import LSTM\n",
    "from keras.layers.convolutional import Conv1D\n",
    "from keras.layers.convolutional import MaxPooling1D\n",
    "from keras.layers import Dropout\n",
    "from keras.layers.embeddings import Embedding\n",
    "\n",
    "from sklearn.model_selection import GridSearchCV\n",
    "from keras.wrappers.scikit_learn import KerasClassifier\n",
    "\n",
    "import ndac\n",
    "%matplotlib inline"
   ]
  },
  {
   "cell_type": "code",
   "execution_count": 2,
   "metadata": {},
   "outputs": [
    {
     "name": "stdout",
     "output_type": "stream",
     "text": [
      "45206 samples input.\n",
      "11303 samples above high cut, 11302 samples below low cut, 22601 samples removed.\n"
     ]
    },
    {
     "data": {
      "image/png": "[encoded data removed]",
      "text/plain": [
       "<Figure size 432x288 with 1 Axes>"
      ]
     },
     "metadata": {},
     "output_type": "display_data"
    }
   ],
   "source": [
    "#read in the data and classify\n",
    "data = pd.read_csv('dataframes/DF_prest.csv', index_col=0)\n",
    "data, hist = ndac.quantile_classify(data['conc_cf'], data['aa_seq'])"
   ]
  },
  {
   "cell_type": "code",
   "execution_count": 3,
   "metadata": {},
   "outputs": [
    {
     "name": "stdout",
     "output_type": "stream",
     "text": [
      "data shape:  (22605, 4)\n"
     ]
    }
   ],
   "source": [
    "# setup 'docs' for use with Tokenizer\n",
    "def aa_seq_doc(aa_sequence):\n",
    "    \"\"\"This function takes in an amino acid sequence (aa sequence) and adds spaces between each amino acid.\"\"\"\n",
    "    \n",
    "    return ' '.join([aa_sequence[i:i+1] \n",
    "                     for i in range(0, len(aa_sequence))])\n",
    "data['aa_seq_doc'] = data['aa_seq'].apply(aa_seq_doc)\n",
    "data = data[pd.notnull(data['aa_seq_doc'])]\n",
    "\n",
    "# check shape\n",
    "print('data shape: ', data.shape)"
   ]
  },
  {
   "cell_type": "code",
   "execution_count": 4,
   "metadata": {},
   "outputs": [],
   "source": [
    "# define sequence documents\n",
    "docs = list(data['aa_seq_doc'])\n",
    "# create the tokenizer\n",
    "t = Tokenizer()\n",
    "# fit the tokenizer on the documents\n",
    "t.fit_on_texts(docs)\n",
    "\n",
    "# integer encode documents\n",
    "X = t.texts_to_sequences(docs)\n",
    "y = data['class'].values\n",
    "\n",
    "# fix random seed for reproducibility\n",
    "np.random.seed(27315)\n",
    "\n",
    "# load the dataset but only keep the top n words, zero the rest\n",
    "top_words = len(t.word_index) + 1\n",
    "\n",
    "# truncate and pad input sequences\n",
    "seq_lengths = [len(seq) for seq in X]\n",
    "max_seq_length = max(seq_lengths)\n",
    "X = sequence.pad_sequences(X, maxlen=max_seq_length)"
   ]
  },
  {
   "cell_type": "code",
   "execution_count": 10,
   "metadata": {},
   "outputs": [
    {
     "name": "stdout",
     "output_type": "stream",
     "text": [
      "Fitting 3 folds for each of 6 candidates, totalling 18 fits\n",
      "[CV] embedding_length=4, filter_length=8, lstm_nodes=100, num_filters=100, pool_size=4 \n",
      "[CV]  embedding_length=4, filter_length=8, lstm_nodes=100, num_filters=100, pool_size=4, score=0.7250165894083733, total=32.0min\n",
      "[CV] embedding_length=4, filter_length=8, lstm_nodes=100, num_filters=100, pool_size=4 \n"
     ]
    },
    {
     "name": "stderr",
     "output_type": "stream",
     "text": [
      "[Parallel(n_jobs=1)]: Done   1 out of   1 | elapsed: 32.3min remaining:    0.0s\n"
     ]
    },
    {
     "name": "stdout",
     "output_type": "stream",
     "text": [
      "[CV]  embedding_length=4, filter_length=8, lstm_nodes=100, num_filters=100, pool_size=4, score=0.7153284673273128, total=31.9min\n",
      "[CV] embedding_length=4, filter_length=8, lstm_nodes=100, num_filters=100, pool_size=4 \n"
     ]
    },
    {
     "name": "stderr",
     "output_type": "stream",
     "text": [
      "[Parallel(n_jobs=1)]: Done   2 out of   2 | elapsed: 64.5min remaining:    0.0s\n"
     ]
    },
    {
     "name": "stdout",
     "output_type": "stream",
     "text": [
      "[CV]  embedding_length=4, filter_length=8, lstm_nodes=100, num_filters=100, pool_size=4, score=0.7178500333525285, total=31.0min\n",
      "[CV] embedding_length=4, filter_length=10, lstm_nodes=100, num_filters=100, pool_size=4 \n"
     ]
    },
    {
     "name": "stderr",
     "output_type": "stream",
     "text": [
      "[Parallel(n_jobs=1)]: Done   3 out of   3 | elapsed: 95.8min remaining:    0.0s\n"
     ]
    },
    {
     "name": "stdout",
     "output_type": "stream",
     "text": [
      "[CV]  embedding_length=4, filter_length=10, lstm_nodes=100, num_filters=100, pool_size=4, score=0.7446582616206108, total=32.1min\n",
      "[CV] embedding_length=4, filter_length=10, lstm_nodes=100, num_filters=100, pool_size=4 \n"
     ]
    },
    {
     "name": "stderr",
     "output_type": "stream",
     "text": [
      "[Parallel(n_jobs=1)]: Done   4 out of   4 | elapsed: 128.2min remaining:    0.0s\n"
     ]
    },
    {
     "name": "stdout",
     "output_type": "stream",
     "text": [
      "[CV]  embedding_length=4, filter_length=10, lstm_nodes=100, num_filters=100, pool_size=4, score=0.6999336428648602, total=31.5min\n",
      "[CV] embedding_length=4, filter_length=10, lstm_nodes=100, num_filters=100, pool_size=4 \n"
     ]
    },
    {
     "name": "stderr",
     "output_type": "stream",
     "text": [
      "[Parallel(n_jobs=1)]: Done   5 out of   5 | elapsed: 159.9min remaining:    0.0s\n"
     ]
    },
    {
     "name": "stdout",
     "output_type": "stream",
     "text": [
      "[CV]  embedding_length=4, filter_length=10, lstm_nodes=100, num_filters=100, pool_size=4, score=0.73510285316909, total=31.7min\n",
      "[CV] embedding_length=6, filter_length=8, lstm_nodes=100, num_filters=100, pool_size=4 \n"
     ]
    },
    {
     "name": "stderr",
     "output_type": "stream",
     "text": [
      "[Parallel(n_jobs=1)]: Done   6 out of   6 | elapsed: 191.9min remaining:    0.0s\n"
     ]
    },
    {
     "name": "stdout",
     "output_type": "stream",
     "text": [
      "[CV]  embedding_length=6, filter_length=8, lstm_nodes=100, num_filters=100, pool_size=4, score=0.740809555226157, total=32.4min\n",
      "[CV] embedding_length=6, filter_length=8, lstm_nodes=100, num_filters=100, pool_size=4 \n"
     ]
    },
    {
     "name": "stderr",
     "output_type": "stream",
     "text": [
      "[Parallel(n_jobs=1)]: Done   7 out of   7 | elapsed: 224.6min remaining:    0.0s\n"
     ]
    },
    {
     "name": "stdout",
     "output_type": "stream",
     "text": [
      "[CV]  embedding_length=6, filter_length=8, lstm_nodes=100, num_filters=100, pool_size=4, score=0.7169210353432385, total=32.6min\n",
      "[CV] embedding_length=6, filter_length=8, lstm_nodes=100, num_filters=100, pool_size=4 \n"
     ]
    },
    {
     "name": "stderr",
     "output_type": "stream",
     "text": [
      "[Parallel(n_jobs=1)]: Done   8 out of   8 | elapsed: 257.5min remaining:    0.0s\n"
     ]
    },
    {
     "name": "stdout",
     "output_type": "stream",
     "text": [
      "[CV]  embedding_length=6, filter_length=8, lstm_nodes=100, num_filters=100, pool_size=4, score=0.7348374255065817, total=32.8min\n",
      "[CV] embedding_length=6, filter_length=10, lstm_nodes=100, num_filters=100, pool_size=4 \n"
     ]
    },
    {
     "name": "stderr",
     "output_type": "stream",
     "text": [
      "[Parallel(n_jobs=1)]: Done   9 out of   9 | elapsed: 290.6min remaining:    0.0s\n"
     ]
    },
    {
     "name": "stdout",
     "output_type": "stream",
     "text": [
      "[CV]  embedding_length=6, filter_length=10, lstm_nodes=100, num_filters=100, pool_size=4, score=0.7437292632553542, total=33.5min\n",
      "[CV] embedding_length=6, filter_length=10, lstm_nodes=100, num_filters=100, pool_size=4 \n",
      "[CV]  embedding_length=6, filter_length=10, lstm_nodes=100, num_filters=100, pool_size=4, score=0.686264100712344, total=40.5min\n",
      "[CV] embedding_length=6, filter_length=10, lstm_nodes=100, num_filters=100, pool_size=4 \n",
      "[CV]  embedding_length=6, filter_length=10, lstm_nodes=100, num_filters=100, pool_size=4, score=0.720504313054746, total=33.6min\n",
      "[CV] embedding_length=8, filter_length=8, lstm_nodes=100, num_filters=100, pool_size=4 \n",
      "[CV]  embedding_length=8, filter_length=8, lstm_nodes=100, num_filters=100, pool_size=4, score=0.7485069676274564, total=33.5min\n",
      "[CV] embedding_length=8, filter_length=8, lstm_nodes=100, num_filters=100, pool_size=4 \n",
      "[CV]  embedding_length=8, filter_length=8, lstm_nodes=100, num_filters=100, pool_size=4, score=0.7266091574401198, total=33.5min\n",
      "[CV] embedding_length=8, filter_length=8, lstm_nodes=100, num_filters=100, pool_size=4 \n",
      "[CV]  embedding_length=8, filter_length=8, lstm_nodes=100, num_filters=100, pool_size=4, score=0.7153284673273128, total=33.9min\n",
      "[CV] embedding_length=8, filter_length=10, lstm_nodes=100, num_filters=100, pool_size=4 \n",
      "[CV]  embedding_length=8, filter_length=10, lstm_nodes=100, num_filters=100, pool_size=4, score=0.7412076972301385, total=34.8min\n",
      "[CV] embedding_length=8, filter_length=10, lstm_nodes=100, num_filters=100, pool_size=4 \n",
      "[CV]  embedding_length=8, filter_length=10, lstm_nodes=100, num_filters=100, pool_size=4, score=0.7140013269738955, total=34.9min\n",
      "[CV] embedding_length=8, filter_length=10, lstm_nodes=100, num_filters=100, pool_size=4 \n",
      "[CV]  embedding_length=8, filter_length=10, lstm_nodes=100, num_filters=100, pool_size=4, score=0.7283344391014058, total=35.1min\n"
     ]
    },
    {
     "name": "stderr",
     "output_type": "stream",
     "text": [
      "[Parallel(n_jobs=1)]: Done  18 out of  18 | elapsed: 606.8min finished\n"
     ]
    },
    {
     "name": "stdout",
     "output_type": "stream",
     "text": [
      "Best: 0.730856 using {'embedding_length': 6, 'filter_length': 8, 'lstm_nodes': 100, 'num_filters': 100, 'pool_size': 4}\n"
     ]
    }
   ],
   "source": [
    "# tune hyperparameters for simple model\n",
    "\n",
    "# model based on \"A C-LSTM Neural Network for Text Classification\"\n",
    "\n",
    "def create_model(embedding_length=16, num_filters=128, pool_size=2,\n",
    "                 lstm_nodes=100, drop=0.5, recurrent_drop=0.5, filter_length=3):\n",
    "    # create the model\n",
    "    model = Sequential()\n",
    "    model.add(Embedding(top_words, embedding_length, \n",
    "                        input_length=max_seq_length))\n",
    "    model.add(Conv1D(filters=num_filters, kernel_size=filter_length, \n",
    "                     padding='same', activation='selu'))\n",
    "    model.add(MaxPooling1D(pool_size=pool_size))\n",
    "    model.add(LSTM(lstm_nodes, dropout=drop, \n",
    "              recurrent_dropout=recurrent_drop))\n",
    "    model.add(Dense(1, activation='sigmoid'))\n",
    "    model.compile(loss='binary_crossentropy', optimizer='adam', \n",
    "                  metrics=['accuracy'])\n",
    "\n",
    "    return model\n",
    "\n",
    "\n",
    "model = KerasClassifier(build_fn=create_model, batch_size=64,\n",
    "                        epochs=30, verbose=0)\n",
    "# define the grid search parameters\n",
    "# model hyperparameters\n",
    "embedding_length = [4, 6, 8]\n",
    "num_filters = [100]\n",
    "filter_length = [8, 10]\n",
    "pool_size = [4]\n",
    "lstm_nodes = [100]\n",
    "\n",
    "param_grid = dict(num_filters=num_filters, pool_size=pool_size,\n",
    "                  lstm_nodes=lstm_nodes, filter_length=filter_length, embedding_length=embedding_length)\n",
    "\n",
    "grid = GridSearchCV(estimator=model, param_grid=param_grid,\n",
    "                    cv=3, verbose=10)\n",
    "\n",
    "\n",
    "grid_result = grid.fit(X, y)\n",
    "# summarize results\n",
    "print(\"Best: %f using %s\" % (grid_result.best_score_, grid_result.best_params_))\n",
    "\n",
    "grid_df = pd.DataFrame(grid_result.cv_results_['params'])\n",
    "grid_df['mean'] = grid_result.cv_results_['mean_test_score']\n",
    "grid_df['stddev'] = grid_result.cv_results_['std_test_score']\n",
    "\n",
    "# print results to csv file\n",
    "grid_df.to_csv('2018-06-19_aa_gird_search_results.csv')"
   ]
  },
  {
   "cell_type": "code",
   "execution_count": null,
   "metadata": {},
   "outputs": [],
   "source": []
  }
 ],
 "metadata": {
  "anaconda-cloud": {},
  "kernelspec": {
   "display_name": "Python 3",
   "language": "python",
   "name": "python3"
  },
  "language_info": {
   "codemirror_mode": {
    "name": "ipython",
    "version": 3
   },
   "file_extension": ".py",
   "mimetype": "text/x-python",
   "name": "python",
   "nbconvert_exporter": "python",
   "pygments_lexer": "ipython3",
   "version": "3.6.4"
  }
 },
 "nbformat": 4,
 "nbformat_minor": 2
}
